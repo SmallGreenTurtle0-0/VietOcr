{
 "cells": [
  {
   "cell_type": "markdown",
   "metadata": {},
   "source": [
    "## Config"
   ]
  },
  {
   "cell_type": "code",
   "execution_count": null,
   "metadata": {},
   "outputs": [],
   "source": [
    "import matplotlib.pyplot as plt\n",
    "from PIL import Image\n",
    "\n",
    "from vietocr.tool.config import Cfg\n",
    "from vietocr.model.trainer import Trainer"
   ]
  },
  {
   "cell_type": "code",
   "execution_count": null,
   "metadata": {},
   "outputs": [],
   "source": [
    "config = Cfg.load_config_from_name('vgg_transformer')\n",
    "dataset_params = {\n",
    "    'name':'imgVietocr',\n",
    "    'data_root':'/mnt/disk1/mbbank/OCR/DATA/data_quangnd/new_train',\n",
    "    'train_annotation':'/mnt/disk1/mbbank/OCR/DATA/team/train.txt',\n",
    "    'valid_annotation':'/mnt/disk1/mbbank/OCR/DATA/team/val.txt'\n",
    "}\n",
    "\n",
    "params = {\n",
    "         'print_every':200,\n",
    "         'valid_every':2*200,\n",
    "          'iters':2000000,\n",
    "          'checkpoint':'/mnt/disk1/mbbank/OCR/CODE/VietOcr/weight/vietocr_V1.pth',\n",
    "          'export':'/mnt/disk1/mbbank/OCR/CODE/VietOcr/weight/vietocr_V2.pth',\n",
    "          'metrics': 150\n",
    "         }\n",
    "\n",
    "config['trainer'].update(params)\n",
    "config['dataset'].update(dataset_params)\n",
    "config['vocab'] += '–' + 'ü' + 'ā' + 'ö' # Ko cần dòng này, nếu cần thì thêm các kí tự\n",
    "config['device'] = 'cuda:0'\n",
    "config['optimizer']['max_lr'] = 0.00005\n",
    "\n",
    "config"
   ]
  },
  {
   "cell_type": "markdown",
   "metadata": {},
   "source": [
    "## Train"
   ]
  },
  {
   "cell_type": "code",
   "execution_count": null,
   "metadata": {},
   "outputs": [],
   "source": [
    "trainer = Trainer(config, pretrained=False)\n",
    "trainer.config.save('/mnt/disk1/mbbank/OCR/CODE/VietOcr/vietocr/config/config.yml')"
   ]
  },
  {
   "cell_type": "code",
   "execution_count": null,
   "metadata": {},
   "outputs": [],
   "source": [
    "# trainer.visualize_dataset()\n",
    "trainer.train()"
   ]
  },
  {
   "cell_type": "code",
   "execution_count": null,
   "metadata": {},
   "outputs": [],
   "source": [
    "trainer.precision()"
   ]
  },
  {
   "cell_type": "code",
   "execution_count": null,
   "metadata": {},
   "outputs": [],
   "source": [
    "trainer.visualize_prediction()"
   ]
  },
  {
   "cell_type": "code",
   "execution_count": null,
   "metadata": {},
   "outputs": [],
   "source": [
    "with torch.no_grad():\n",
    "    torch.cuda.empty_cache()"
   ]
  },
  {
   "cell_type": "markdown",
   "metadata": {},
   "source": [
    "## Infer"
   ]
  },
  {
   "cell_type": "code",
   "execution_count": null,
   "metadata": {},
   "outputs": [],
   "source": [
    "from vietocr.tool.predictor import Predictor\n",
    "from vietocr.tool.config import Cfg\n",
    "\n",
    "import os\n",
    "import numpy as np\n",
    "from PIL import Image\n",
    "import matplotlib.pyplot as plt\n",
    "from tqdm import tqdm\n",
    "import torch\n",
    "\n",
    "class RECOGNIZE():\n",
    "    def __init__(self, weight_path='./weight/vietocr_v1.pth', device='cpu') -> None:\n",
    "        config = Cfg.load_config_from_name('vgg_transformer')\n",
    "        config['weights'] = weight_path\n",
    "        config['cnn']['pretrained'] = False\n",
    "        config['device'] = device\n",
    "        config['predictor']['beamsearch'] = False\n",
    "        config['vocab'] = config['vocab'] + '–' + 'ü' + 'ā' + 'ö'\n",
    "        self.config = config\n",
    "        self.detector = Predictor(config)\n",
    "    \n",
    "    def predict_image(self, img_path):\n",
    "        img = Image.open(img_path).convert('RGB')\n",
    "        words_predicted = self.detector.predict(img)\n",
    "        return words_predicted"
   ]
  },
  {
   "cell_type": "code",
   "execution_count": null,
   "metadata": {},
   "outputs": [],
   "source": [
    "model_v1 = RECOGNIZE(weight_path='/mnt/disk1/mbbank/OCR/CODE/VietOcr/weight/vietocr_V1.pth', device='cuda:2')\n",
    "\n",
    "\n",
    "v1_predict = {}\n",
    "org_test = '/mnt/disk1/mbbank/OCR/DATA/data_quangnd/test'\n",
    "bar = tqdm(os.listdir(org_test))\n",
    "for img_path in  bar:\n",
    "    v1_predict[img_path] = model_v1.predict_image(org_test + '/' + img_path)\n",
    "\n",
    "with open('/mnt/disk1/mbbank/OCR/CODE/VietOcr/result/vietocr_V1.txt', 'w') as f:\n",
    "    for key, value in v1_predict.items():\n",
    "        f.write('%s\\t%s\\n' % (key, value))"
   ]
  },
  {
   "cell_type": "code",
   "execution_count": null,
   "metadata": {},
   "outputs": [],
   "source": [
    "img_path = org_test + '/' + 'public_test_img_10774.jpg'\n",
    "image = Image.open(img_path).convert('RGB')\n",
    "plt.imshow(image)\n",
    "plt.title(v1_predict['public_test_img_10774.jpg'])"
   ]
  },
  {
   "cell_type": "code",
   "execution_count": null,
   "metadata": {},
   "outputs": [],
   "source": []
  }
 ],
 "metadata": {
  "kernelspec": {
   "display_name": "gpu",
   "language": "python",
   "name": "python3"
  },
  "language_info": {
   "codemirror_mode": {
    "name": "ipython",
    "version": 3
   },
   "file_extension": ".py",
   "mimetype": "text/x-python",
   "name": "python",
   "nbconvert_exporter": "python",
   "pygments_lexer": "ipython3",
   "version": "3.8.13"
  },
  "orig_nbformat": 4
 },
 "nbformat": 4,
 "nbformat_minor": 2
}
